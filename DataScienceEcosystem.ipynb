{
 "cells": [
  {
   "cell_type": "markdown",
   "id": "ecb016cb-9185-4c26-a78e-ff5d71f15ea4",
   "metadata": {},
   "source": [
    "# Data Science Tools and Ecosystem"
   ]
  },
  {
   "cell_type": "markdown",
   "id": "eb70799e-49ac-4e50-a0bc-9425a30b7f52",
   "metadata": {},
   "source": [
    "# In this notebook, Data Science Tools and Ecosystem are summarized."
   ]
  },
  {
   "cell_type": "markdown",
   "id": "42496d5d-545e-4e2f-ae33-906759b82318",
   "metadata": {},
   "source": [
    "# __Objectives:__\n",
    "- List popular languages for Data Science\n",
    "- Common libraries used by Data Scientists\n",
    "- Arithmetic expressions in Python"
   ]
  },
  {
   "cell_type": "markdown",
   "id": "bf01bdcb-bb72-40d4-b042-c0901baa33eb",
   "metadata": {},
   "source": [
    "### Some of the popular languages that Data Scientists use are:\n",
    "1. Python\n",
    "2. R\n",
    "3. SQL"
   ]
  },
  {
   "cell_type": "markdown",
   "id": "bf542764-d1c9-482d-9112-052c1cf480a4",
   "metadata": {},
   "source": [
    "### Some of the commonly used libraries used by Data Scientists include:\n",
    "1. Numpy\n",
    "2. Pandas\n",
    "3. MatplotLib"
   ]
  },
  {
   "cell_type": "markdown",
   "id": "99b09bbc-ce3f-4aea-a993-9cc8923bfaa1",
   "metadata": {},
   "source": [
    "| Data Science Tools | \n",
    "| -------------|\n",
    "| Weka |\n",
    "| Java-ML |\n",
    "| Apache MLlib | "
   ]
  },
  {
   "cell_type": "markdown",
   "id": "959189d2-d032-41c8-abba-6565a50365e2",
   "metadata": {},
   "source": [
    "### Below are a few examples of evaluating arithmetic expressions in Python"
   ]
  },
  {
   "cell_type": "code",
   "execution_count": 15,
   "id": "effd3eef-7350-488e-bddb-2404262afd03",
   "metadata": {},
   "outputs": [
    {
     "data": {
      "text/plain": [
       "17"
      ]
     },
     "execution_count": 15,
     "metadata": {},
     "output_type": "execute_result"
    }
   ],
   "source": [
    "# This a simple arithmetic expression to mutiply then add integers\n",
    "(3*4)+5"
   ]
  },
  {
   "cell_type": "code",
   "execution_count": 19,
   "id": "7e7e39d8-93e2-4f6f-b7a1-2fc62f2b14ee",
   "metadata": {},
   "outputs": [
    {
     "data": {
      "text/plain": [
       "3.3333333333333335"
      ]
     },
     "execution_count": 19,
     "metadata": {},
     "output_type": "execute_result"
    }
   ],
   "source": [
    "# This will convert 200 minutes to hours by diving by 60\n",
    "200 / 60"
   ]
  },
  {
   "cell_type": "markdown",
   "id": "48cab3b8-5f1d-4549-97d8-3bd2932a7e48",
   "metadata": {},
   "source": [
    "## Author \n",
    "David Curiel"
   ]
  },
  {
   "cell_type": "code",
   "execution_count": null,
   "id": "70eb3cb1-dd65-4b05-9aa6-031290813d33",
   "metadata": {},
   "outputs": [],
   "source": []
  }
 ],
 "metadata": {
  "kernelspec": {
   "display_name": "Python 3 (ipykernel)",
   "language": "python",
   "name": "python3"
  },
  "language_info": {
   "codemirror_mode": {
    "name": "ipython",
    "version": 3
   },
   "file_extension": ".py",
   "mimetype": "text/x-python",
   "name": "python",
   "nbconvert_exporter": "python",
   "pygments_lexer": "ipython3",
   "version": "3.11.7"
  }
 },
 "nbformat": 4,
 "nbformat_minor": 5
}
